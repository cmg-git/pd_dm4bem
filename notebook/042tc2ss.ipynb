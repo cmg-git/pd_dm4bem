{
 "cells": [
  {
   "cell_type": "markdown",
   "id": "3dfb3912-f05b-42d7-8be3-9be46fec9149",
   "metadata": {},
   "source": [
    "# Transformation from thermal circuit to state-space\n",
    "\n",
    "Uses the data given in the paper:\n",
    "> [Ghiaus, C. (2013)](https://hal.science/hal-03605823/document). Causality issue in the heat balance method for calculating the design heating and cooling load. Energy, 50, 292-301."
   ]
  },
  {
   "cell_type": "code",
   "execution_count": 1,
   "id": "f0b1115b-8ede-49bc-ab13-600433227e08",
   "metadata": {},
   "outputs": [],
   "source": [
    "import pandas as pd\n",
    "import pd_dm4bem"
   ]
  },
  {
   "cell_type": "markdown",
   "id": "828647f2-ecbf-46cf-909d-599350232c47",
   "metadata": {},
   "source": [
    "## File to thermal circuit using symbols\n",
    "\n",
    "Let's consider the thermal circuit with symbols for numbering the temperature nodes and oriented flow branches (Figure 1). \n",
    "\n",
    "![tc_sym](./TC_tc2ss/tc2ss_sym.svg)\n",
    "> Figure 1. Thermal circuit with symbols.\n",
    "\n",
    "The thermal circuit from Figure 1 is defined in the file `./TC_tc2ss/TC_tc2ss_sym.csv`. "
   ]
  },
  {
   "cell_type": "code",
   "execution_count": 2,
   "id": "0ec28ca8-195e-4d24-9520-0907f2f9b09e",
   "metadata": {},
   "outputs": [
    {
     "data": {
      "text/html": [
       "<div>\n",
       "<style scoped>\n",
       "    .dataframe tbody tr th:only-of-type {\n",
       "        vertical-align: middle;\n",
       "    }\n",
       "\n",
       "    .dataframe tbody tr th {\n",
       "        vertical-align: top;\n",
       "    }\n",
       "\n",
       "    .dataframe thead th {\n",
       "        text-align: right;\n",
       "    }\n",
       "</style>\n",
       "<table border=\"1\" class=\"dataframe\">\n",
       "  <thead>\n",
       "    <tr style=\"text-align: right;\">\n",
       "      <th></th>\n",
       "      <th>A</th>\n",
       "      <th>θso</th>\n",
       "      <th>θw</th>\n",
       "      <th>θsi</th>\n",
       "      <th>θa</th>\n",
       "      <th>G</th>\n",
       "      <th>b</th>\n",
       "    </tr>\n",
       "  </thead>\n",
       "  <tbody>\n",
       "    <tr>\n",
       "      <th>0</th>\n",
       "      <td>qw0</td>\n",
       "      <td>-1</td>\n",
       "      <td>1.0</td>\n",
       "      <td>NaN</td>\n",
       "      <td>NaN</td>\n",
       "      <td>2.9</td>\n",
       "      <td>NaN</td>\n",
       "    </tr>\n",
       "    <tr>\n",
       "      <th>1</th>\n",
       "      <td>qw1</td>\n",
       "      <td>NaN</td>\n",
       "      <td>-1.0</td>\n",
       "      <td>1</td>\n",
       "      <td>NaN</td>\n",
       "      <td>2.9</td>\n",
       "      <td>NaN</td>\n",
       "    </tr>\n",
       "    <tr>\n",
       "      <th>2</th>\n",
       "      <td>qv</td>\n",
       "      <td>NaN</td>\n",
       "      <td>NaN</td>\n",
       "      <td>NaN</td>\n",
       "      <td>1</td>\n",
       "      <td>38.3</td>\n",
       "      <td>Tov</td>\n",
       "    </tr>\n",
       "    <tr>\n",
       "      <th>3</th>\n",
       "      <td>qco</td>\n",
       "      <td>1</td>\n",
       "      <td>NaN</td>\n",
       "      <td>NaN</td>\n",
       "      <td>NaN</td>\n",
       "      <td>250.0</td>\n",
       "      <td>Tow</td>\n",
       "    </tr>\n",
       "    <tr>\n",
       "      <th>4</th>\n",
       "      <td>qci</td>\n",
       "      <td>NaN</td>\n",
       "      <td>NaN</td>\n",
       "      <td>-1</td>\n",
       "      <td>1</td>\n",
       "      <td>125.0</td>\n",
       "      <td>NaN</td>\n",
       "    </tr>\n",
       "    <tr>\n",
       "      <th>5</th>\n",
       "      <td>C</td>\n",
       "      <td>NaN</td>\n",
       "      <td>4000000.0</td>\n",
       "      <td>NaN</td>\n",
       "      <td>8.2E+04</td>\n",
       "      <td>NaN</td>\n",
       "      <td>NaN</td>\n",
       "    </tr>\n",
       "    <tr>\n",
       "      <th>6</th>\n",
       "      <td>f</td>\n",
       "      <td>Qo</td>\n",
       "      <td>NaN</td>\n",
       "      <td>Qi</td>\n",
       "      <td>Qg</td>\n",
       "      <td>NaN</td>\n",
       "      <td>NaN</td>\n",
       "    </tr>\n",
       "    <tr>\n",
       "      <th>7</th>\n",
       "      <td>y</td>\n",
       "      <td>NaN</td>\n",
       "      <td>NaN</td>\n",
       "      <td>1</td>\n",
       "      <td>1</td>\n",
       "      <td>NaN</td>\n",
       "      <td>NaN</td>\n",
       "    </tr>\n",
       "  </tbody>\n",
       "</table>\n",
       "</div>"
      ],
      "text/plain": [
       "     A  θso         θw  θsi       θa      G    b\n",
       "0  qw0   -1        1.0  NaN      NaN    2.9  NaN\n",
       "1  qw1  NaN       -1.0    1      NaN    2.9  NaN\n",
       "2   qv  NaN        NaN  NaN        1   38.3  Tov\n",
       "3  qco    1        NaN  NaN      NaN  250.0  Tow\n",
       "4  qci  NaN        NaN   -1        1  125.0  NaN\n",
       "5    C  NaN  4000000.0  NaN  8.2E+04    NaN  NaN\n",
       "6    f   Qo        NaN   Qi       Qg    NaN  NaN\n",
       "7    y  NaN        NaN    1        1    NaN  NaN"
      ]
     },
     "execution_count": 2,
     "metadata": {},
     "output_type": "execute_result"
    }
   ],
   "source": [
    "pd.read_csv('./TC_tc2ss/TC_tc2ss_sym.csv')"
   ]
  },
  {
   "cell_type": "markdown",
   "id": "13ee0a26-37e0-4151-a20f-dfa4e943cf55",
   "metadata": {},
   "source": [
    "### Auto-numbering\n",
    "\n",
    "The nodes and oriented branches can be auto-numbered. The names of the nodes and branches are composed by the name of the circuit and θ0, θ1, ... , for nodes and q0, q1, ... for branches, e.g., a_θ1."
   ]
  },
  {
   "cell_type": "code",
   "execution_count": 3,
   "id": "c64d7c02-550f-49bd-b388-8efbba36310a",
   "metadata": {
    "tags": []
   },
   "outputs": [
    {
     "data": {
      "text/html": [
       "<div>\n",
       "<style scoped>\n",
       "    .dataframe tbody tr th:only-of-type {\n",
       "        vertical-align: middle;\n",
       "    }\n",
       "\n",
       "    .dataframe tbody tr th {\n",
       "        vertical-align: top;\n",
       "    }\n",
       "\n",
       "    .dataframe thead th {\n",
       "        text-align: right;\n",
       "    }\n",
       "</style>\n",
       "<table border=\"1\" class=\"dataframe\">\n",
       "  <thead>\n",
       "    <tr style=\"text-align: right;\">\n",
       "      <th></th>\n",
       "      <th>a_θ1</th>\n",
       "      <th>a_θ3</th>\n",
       "    </tr>\n",
       "  </thead>\n",
       "  <tbody>\n",
       "    <tr>\n",
       "      <th>a_θ1</th>\n",
       "      <td>-0.000001</td>\n",
       "      <td>7.085614e-07</td>\n",
       "    </tr>\n",
       "    <tr>\n",
       "      <th>a_θ3</th>\n",
       "      <td>0.000035</td>\n",
       "      <td>-5.016371e-04</td>\n",
       "    </tr>\n",
       "  </tbody>\n",
       "</table>\n",
       "</div>"
      ],
      "text/plain": [
       "          a_θ1          a_θ3\n",
       "a_θ1 -0.000001  7.085614e-07\n",
       "a_θ3  0.000035 -5.016371e-04"
      ]
     },
     "execution_count": 3,
     "metadata": {},
     "output_type": "execute_result"
    }
   ],
   "source": [
    "TC_file = \"TC_tc2ss/TC_tc2ss_sym.csv\"\n",
    "TC = pd_dm4bem.file2TC(TC_file, name=\"a\", auto_number=True)\n",
    "[Asa, Bsa, Csa, Dsa, ua] = pd_dm4bem.tc2ss(TC)\n",
    "Asa"
   ]
  },
  {
   "cell_type": "markdown",
   "id": "10c65122-2fe9-42b3-95c4-606e00183584",
   "metadata": {},
   "source": [
    "### Symbols\n",
    "Alternatively, the nodes and branches can keep the names they "
   ]
  },
  {
   "cell_type": "code",
   "execution_count": 4,
   "id": "a7f05109-60f1-4cb7-91ff-25228016f67f",
   "metadata": {},
   "outputs": [
    {
     "data": {
      "text/html": [
       "<div>\n",
       "<style scoped>\n",
       "    .dataframe tbody tr th:only-of-type {\n",
       "        vertical-align: middle;\n",
       "    }\n",
       "\n",
       "    .dataframe tbody tr th {\n",
       "        vertical-align: top;\n",
       "    }\n",
       "\n",
       "    .dataframe thead th {\n",
       "        text-align: right;\n",
       "    }\n",
       "</style>\n",
       "<table border=\"1\" class=\"dataframe\">\n",
       "  <thead>\n",
       "    <tr style=\"text-align: right;\">\n",
       "      <th></th>\n",
       "      <th>s_θw</th>\n",
       "      <th>s_θa</th>\n",
       "    </tr>\n",
       "  </thead>\n",
       "  <tbody>\n",
       "    <tr>\n",
       "      <th>s_θw</th>\n",
       "      <td>-0.000001</td>\n",
       "      <td>7.085614e-07</td>\n",
       "    </tr>\n",
       "    <tr>\n",
       "      <th>s_θa</th>\n",
       "      <td>0.000035</td>\n",
       "      <td>-5.016371e-04</td>\n",
       "    </tr>\n",
       "  </tbody>\n",
       "</table>\n",
       "</div>"
      ],
      "text/plain": [
       "          s_θw          s_θa\n",
       "s_θw -0.000001  7.085614e-07\n",
       "s_θa  0.000035 -5.016371e-04"
      ]
     },
     "execution_count": 4,
     "metadata": {},
     "output_type": "execute_result"
    }
   ],
   "source": [
    "TC_file = \"TC_tc2ss/TC_tc2ss_sym.csv\"\n",
    "TC = pd_dm4bem.file2TC(TC_file, name=\"s\")\n",
    "[Ass, Bss, Css, Dss, us] = pd_dm4bem.tc2ss(TC)\n",
    "Ass"
   ]
  },
  {
   "cell_type": "markdown",
   "id": "f7949797-60a5-48d2-b9e0-b76abaaa6a82",
   "metadata": {},
   "source": [
    "Note that the order of symbols corespond to the order given in the description file `./TC_tc2ss/TC_tc2ss_num.csv`not to the alphabetical order."
   ]
  },
  {
   "cell_type": "markdown",
   "id": "9635ab2a-39c5-4acc-a49a-9f73b5abdc59",
   "metadata": {},
   "source": [
    "## File to thermal circuit using numbers\n",
    "\n",
    "Instead of using symbols, the thermal circuit can be numbered (Figure 2).\n",
    "\n",
    "![tc_num](./TC_tc2ss/tc2ss_num.svg)\n",
    "> Figure 2. Numbered thermal circuit\n",
    "\n",
    "The thermal circuit from Figure 1 is defined in the file `./TC_tc2ss/TC_tc2ss_num.csv`. "
   ]
  },
  {
   "cell_type": "code",
   "execution_count": 5,
   "id": "5b64b981-ae7d-426c-8a59-c8c38cbec836",
   "metadata": {},
   "outputs": [
    {
     "data": {
      "text/html": [
       "<div>\n",
       "<style scoped>\n",
       "    .dataframe tbody tr th:only-of-type {\n",
       "        vertical-align: middle;\n",
       "    }\n",
       "\n",
       "    .dataframe tbody tr th {\n",
       "        vertical-align: top;\n",
       "    }\n",
       "\n",
       "    .dataframe thead th {\n",
       "        text-align: right;\n",
       "    }\n",
       "</style>\n",
       "<table border=\"1\" class=\"dataframe\">\n",
       "  <thead>\n",
       "    <tr style=\"text-align: right;\">\n",
       "      <th></th>\n",
       "      <th>A</th>\n",
       "      <th>θ0</th>\n",
       "      <th>θ1</th>\n",
       "      <th>θ2</th>\n",
       "      <th>θ3</th>\n",
       "      <th>G</th>\n",
       "      <th>b</th>\n",
       "    </tr>\n",
       "  </thead>\n",
       "  <tbody>\n",
       "    <tr>\n",
       "      <th>0</th>\n",
       "      <td>q0</td>\n",
       "      <td>NaN</td>\n",
       "      <td>NaN</td>\n",
       "      <td>1</td>\n",
       "      <td>NaN</td>\n",
       "      <td>38.3</td>\n",
       "      <td>Tov</td>\n",
       "    </tr>\n",
       "    <tr>\n",
       "      <th>1</th>\n",
       "      <td>q1</td>\n",
       "      <td>1</td>\n",
       "      <td>NaN</td>\n",
       "      <td>NaN</td>\n",
       "      <td>NaN</td>\n",
       "      <td>250.0</td>\n",
       "      <td>Tow</td>\n",
       "    </tr>\n",
       "    <tr>\n",
       "      <th>2</th>\n",
       "      <td>q2</td>\n",
       "      <td>-1</td>\n",
       "      <td>NaN</td>\n",
       "      <td>NaN</td>\n",
       "      <td>1.0</td>\n",
       "      <td>2.9</td>\n",
       "      <td>NaN</td>\n",
       "    </tr>\n",
       "    <tr>\n",
       "      <th>3</th>\n",
       "      <td>q3</td>\n",
       "      <td>NaN</td>\n",
       "      <td>1</td>\n",
       "      <td>NaN</td>\n",
       "      <td>-1.0</td>\n",
       "      <td>2.9</td>\n",
       "      <td>NaN</td>\n",
       "    </tr>\n",
       "    <tr>\n",
       "      <th>4</th>\n",
       "      <td>q4</td>\n",
       "      <td>NaN</td>\n",
       "      <td>-1</td>\n",
       "      <td>1</td>\n",
       "      <td>NaN</td>\n",
       "      <td>125.0</td>\n",
       "      <td>NaN</td>\n",
       "    </tr>\n",
       "    <tr>\n",
       "      <th>5</th>\n",
       "      <td>C</td>\n",
       "      <td>NaN</td>\n",
       "      <td>NaN</td>\n",
       "      <td>8.2E+04</td>\n",
       "      <td>4000000.0</td>\n",
       "      <td>NaN</td>\n",
       "      <td>NaN</td>\n",
       "    </tr>\n",
       "    <tr>\n",
       "      <th>6</th>\n",
       "      <td>f</td>\n",
       "      <td>Qo</td>\n",
       "      <td>Qi</td>\n",
       "      <td>Qg</td>\n",
       "      <td>NaN</td>\n",
       "      <td>NaN</td>\n",
       "      <td>NaN</td>\n",
       "    </tr>\n",
       "    <tr>\n",
       "      <th>7</th>\n",
       "      <td>y</td>\n",
       "      <td>NaN</td>\n",
       "      <td>1</td>\n",
       "      <td>1</td>\n",
       "      <td>NaN</td>\n",
       "      <td>NaN</td>\n",
       "      <td>NaN</td>\n",
       "    </tr>\n",
       "  </tbody>\n",
       "</table>\n",
       "</div>"
      ],
      "text/plain": [
       "    A   θ0   θ1       θ2         θ3      G    b\n",
       "0  q0  NaN  NaN        1        NaN   38.3  Tov\n",
       "1  q1    1  NaN      NaN        NaN  250.0  Tow\n",
       "2  q2   -1  NaN      NaN        1.0    2.9  NaN\n",
       "3  q3  NaN    1      NaN       -1.0    2.9  NaN\n",
       "4  q4  NaN   -1        1        NaN  125.0  NaN\n",
       "5   C  NaN  NaN  8.2E+04  4000000.0    NaN  NaN\n",
       "6   f   Qo   Qi       Qg        NaN    NaN  NaN\n",
       "7   y  NaN    1        1        NaN    NaN  NaN"
      ]
     },
     "execution_count": 5,
     "metadata": {},
     "output_type": "execute_result"
    }
   ],
   "source": [
    "pd.read_csv('./TC_tc2ss/TC_tc2ss_num.csv')"
   ]
  },
  {
   "cell_type": "code",
   "execution_count": 6,
   "id": "b8b505e2-79c0-4ce2-bd6a-01f605e55c5a",
   "metadata": {},
   "outputs": [
    {
     "data": {
      "text/html": [
       "<div>\n",
       "<style scoped>\n",
       "    .dataframe tbody tr th:only-of-type {\n",
       "        vertical-align: middle;\n",
       "    }\n",
       "\n",
       "    .dataframe tbody tr th {\n",
       "        vertical-align: top;\n",
       "    }\n",
       "\n",
       "    .dataframe thead th {\n",
       "        text-align: right;\n",
       "    }\n",
       "</style>\n",
       "<table border=\"1\" class=\"dataframe\">\n",
       "  <thead>\n",
       "    <tr style=\"text-align: right;\">\n",
       "      <th></th>\n",
       "      <th>a_θ2</th>\n",
       "      <th>a_θ3</th>\n",
       "    </tr>\n",
       "  </thead>\n",
       "  <tbody>\n",
       "    <tr>\n",
       "      <th>a_θ2</th>\n",
       "      <td>-5.016371e-04</td>\n",
       "      <td>0.000035</td>\n",
       "    </tr>\n",
       "    <tr>\n",
       "      <th>a_θ3</th>\n",
       "      <td>7.085614e-07</td>\n",
       "      <td>-0.000001</td>\n",
       "    </tr>\n",
       "  </tbody>\n",
       "</table>\n",
       "</div>"
      ],
      "text/plain": [
       "              a_θ2      a_θ3\n",
       "a_θ2 -5.016371e-04  0.000035\n",
       "a_θ3  7.085614e-07 -0.000001"
      ]
     },
     "execution_count": 6,
     "metadata": {},
     "output_type": "execute_result"
    }
   ],
   "source": [
    "TC_file = \"TC_tc2ss/TC_tc2ss_num.csv\"\n",
    "TC = pd_dm4bem.file2TC(TC_file, name=\"a\")\n",
    "[Asn, Bsn, Csn, Dsn, un] = pd_dm4bem.tc2ss(TC)\n",
    "Asn"
   ]
  },
  {
   "cell_type": "markdown",
   "id": "96f274fc-c37e-4355-8137-29251148f9f2",
   "metadata": {},
   "source": [
    "Note that the values of the state-space representations are the same but the order os different. The order is given by the `.cvs` files that define the thermal circuit."
   ]
  },
  {
   "cell_type": "code",
   "execution_count": null,
   "id": "c802f3b8-f5d6-4742-bc11-e166328f9e28",
   "metadata": {},
   "outputs": [],
   "source": []
  }
 ],
 "metadata": {
  "kernelspec": {
   "display_name": "Python 3 (ipykernel)",
   "language": "python",
   "name": "python3"
  },
  "language_info": {
   "codemirror_mode": {
    "name": "ipython",
    "version": 3
   },
   "file_extension": ".py",
   "mimetype": "text/x-python",
   "name": "python",
   "nbconvert_exporter": "python",
   "pygments_lexer": "ipython3",
   "version": "3.9.7"
  }
 },
 "nbformat": 4,
 "nbformat_minor": 5
}
