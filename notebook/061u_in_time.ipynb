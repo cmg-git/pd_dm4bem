{
 "cells": [
  {
   "cell_type": "markdown",
   "id": "bf592692-0b64-49a7-92df-7723f80846dd",
   "metadata": {},
   "source": [
    "# Input vector in time: step response\n",
    "\n",
    "<div class=\"alert alert-block alert-warning\">\n",
    "<b>Note:</b> Input data needs to be read from a `.csv` file as a DataFrame.\n",
    "</div>\n",
    "\n",
    "\n",
    "Considering that the input data are given, e.g., To, Ti_sp, Φ, Qa, Qo, Qi,, create the input vector in time, u, by using `pd_dm4bem.inputs_in_time()`.\n",
    "\n",
    "\n",
    "Verify with the results obtained in tutorial 3 of `dm4bem`"
   ]
  },
  {
   "cell_type": "code",
   "execution_count": 1,
   "id": "21ad7e12-c693-46df-9e5d-30162ed92eae",
   "metadata": {},
   "outputs": [],
   "source": [
    "import numpy as np\n",
    "import pandas as pd\n",
    "import matplotlib.pyplot as plt\n",
    "import dm4bem\n",
    "import pd_dm4bem"
   ]
  },
  {
   "cell_type": "markdown",
   "id": "234dae89-1c4d-4f56-a1a1-5359dd8180f8",
   "metadata": {},
   "source": [
    "## Using `pd_dm4bem`\n",
    "\n",
    "Create the variables that are inputs\n",
    "```\n",
    "# inputs\n",
    "To = 10 * np.ones(n)\n",
    "Ti_sp = 20 * np.ones(n)\n",
    "Φ = Qa = Qo = Qi = np.zeros(n)\n",
    "```\n",
    "\n",
    "Then, construct the input vector in time, `u`: \n",
    "```\n",
    "# construct input vector from \"ul\"\n",
    "input_data = {'To': To, 'Ti_sp': Ti_sp, 'Φ': Φ, 'Qa': Qa, 'Qo': Qo, 'Qi': Qi}\n",
    "u = pd_dm4bem.inputs_in_time(ul, input_data)\n",
    "```"
   ]
  },
  {
   "cell_type": "markdown",
   "id": "6e639413-fb98-4c0b-9e9a-a346a5ff901a",
   "metadata": {},
   "source": [
    "### State-space from dissasembled thermal circuits"
   ]
  },
  {
   "cell_type": "code",
   "execution_count": 2,
   "id": "cecb00cb-3203-4ea1-b940-baea60a8ae0c",
   "metadata": {},
   "outputs": [],
   "source": [
    "\"\"\"\n",
    "pd_dm4bem.tc2ss: with assembling\n",
    "\"\"\"\n",
    "\"\"\"\n",
    "Obtain the state-space\n",
    "\"\"\"\n",
    "\n",
    "# Dissasembled thermal circuits\n",
    "folder_path = \"bldg_inputs\"\n",
    "TCd = pd_dm4bem.bldg2TCd(folder_path,\n",
    "                         TC_auto_number=True)\n",
    "# For non auto-numbering of thermal circuits TC\n",
    "# TCd = pd_dm4bem.bldg2TCd(folder_path, TC_auto_number=False)\n",
    "\n",
    "# Assembled thermal circuit\n",
    "# from assembly_matrix.csv')\n",
    "ass_mat = pd.read_csv(folder_path + '/assembly_matrix.csv')\n",
    "TCm = pd_dm4bem.assemble_TCd_matrix(TCd, ass_mat)\n",
    "\n",
    "# from assembly_lists.csv'\n",
    "ass_lists = pd.read_csv(folder_path + '/assembly_lists.csv')\n",
    "ass_mat = pd_dm4bem.assemble_lists2matrix(ass_lists)\n",
    "TCl = pd_dm4bem.assemble_TCd_matrix(TCd, ass_mat)\n",
    "\n",
    "# State-space from TC\n",
    "[Al, Bl, Cl, Dl, ul] = pd_dm4bem.tc2ss(TCl)"
   ]
  },
  {
   "cell_type": "markdown",
   "id": "239f7b38-ffca-452f-b21e-408cfc6d03fa",
   "metadata": {},
   "source": [
    "### Step-response\n",
    "#### Time step and duration"
   ]
  },
  {
   "cell_type": "code",
   "execution_count": 3,
   "id": "ba87bb5a-3279-4a36-af6a-1c9c27b196d4",
   "metadata": {},
   "outputs": [],
   "source": [
    "\"\"\"\n",
    "Step response\n",
    "\"\"\"\n",
    "# time step smaller than dtmax = min(−2/𝜆𝑖)\n",
    "λ = np.linalg.eig(Al)[0]    # eigenvalues of matrix As\n",
    "dtmax = 2 * min(-1. / λ)\n",
    "dt = np.floor(dtmax / 60) * 60   # s\n",
    "\n",
    "# settling time = 4 * max time constant\n",
    "time_const = np.array([int(x) for x in sorted(-1 / λ)])\n",
    "t_settle = 4 * max(-1 / λ)\n",
    "\n",
    "# duration: next multiple of 3600 s that is larger than t_settle\n",
    "duration = np.ceil(t_settle / 3600) * 3600\n",
    "n = int(np.floor(duration / dt))        # number of time steps\n",
    "t = np.arange(0, n * dt, dt)            # time vector for n time steps"
   ]
  },
  {
   "cell_type": "markdown",
   "id": "f78dacc7-7481-4368-bb6a-16f048769518",
   "metadata": {},
   "source": [
    "#### Input data"
   ]
  },
  {
   "cell_type": "code",
   "execution_count": 4,
   "id": "069736ae-6022-41f9-84fb-585b9610df34",
   "metadata": {
    "tags": []
   },
   "outputs": [],
   "source": [
    "# inputs\n",
    "To = 10 * np.ones(n)\n",
    "Ti_sp = 20 * np.ones(n)\n",
    "Φ = Qa = Qo = Qi = np.zeros(n)"
   ]
  },
  {
   "cell_type": "markdown",
   "id": "d35585dc-2bae-42ca-9906-94d9f3a3afc7",
   "metadata": {},
   "source": [
    "#### Input vector `u` in time"
   ]
  },
  {
   "cell_type": "code",
   "execution_count": 5,
   "id": "2fe251f0-524e-4e4e-b9e2-be81d9a96b49",
   "metadata": {},
   "outputs": [],
   "source": [
    "# construct input vector from \"ul\"\n",
    "# u = pd.concat([pd.Series(eval(col), name=col) for col in ul], axis=1)\n",
    "input_data = {'To': To, 'Ti_sp': Ti_sp, 'Φ': Φ, 'Qa': Qa, 'Qo': Qo, 'Qi': Qi}\n",
    "u = pd_dm4bem.inputs_in_time(ul, input_data)"
   ]
  },
  {
   "cell_type": "markdown",
   "id": "061cd5fa-ae6d-4d46-ba18-1b7b5088c2ee",
   "metadata": {},
   "source": [
    "#### Integration in time"
   ]
  },
  {
   "cell_type": "code",
   "execution_count": 6,
   "id": "61bf22b1-684d-4352-8d63-45ee6b117205",
   "metadata": {},
   "outputs": [],
   "source": [
    "# initial conditions\n",
    "n_s = Al.shape[0]                       # number of state variables\n",
    "θ_exp = np.zeros([n_s, t.shape[0]])     # explicit Euler in time t\n",
    "θ_imp = np.zeros([n_s, t.shape[0]])     # implicit Euler in time t\n",
    "\n",
    "\n",
    "I = np.eye(n_s)                         # identity matrix\n",
    "\n",
    "Bl = Bl.rename(columns=ul)\n",
    "Dl = Dl.rename(columns=ul)\n",
    "\n",
    "# time integration\n",
    "for k in range(n - 1):\n",
    "    θ_exp[:, k + 1] = (I + dt * Al) @\\\n",
    "        θ_exp[:, k] + dt * Bl @ u.iloc[k]\n",
    "    θ_imp[:, k + 1] = np.linalg.inv(I - dt * Al) @\\\n",
    "        (θ_imp[:, k] + dt * Bl @ u.iloc[k])\n",
    "\n",
    "# outputs\n",
    "y_exp = Cl @ θ_exp + Dl @  u.T\n",
    "y_imp = Cl @ θ_imp + Dl @  u.T"
   ]
  },
  {
   "cell_type": "markdown",
   "id": "5c9f6b77-5270-4403-86a4-320fc14bd179",
   "metadata": {},
   "source": [
    "#### Plot results"
   ]
  },
  {
   "cell_type": "code",
   "execution_count": 7,
   "id": "097736f6-5775-45a0-b43b-a1854d7fb350",
   "metadata": {},
   "outputs": [
    {
     "data": {
      "image/png": "[encoded data removed]",
      "text/plain": [
       "<Figure size 432x288 with 1 Axes>"
      ]
     },
     "metadata": {
      "needs_background": "light"
     },
     "output_type": "display_data"
    }
   ],
   "source": [
    "# plot\n",
    "fig, ax = plt.subplots()\n",
    "ax.plot(t / 3600, y_exp.values.T, t / 3600, y_imp.values.T)\n",
    "ax.set(xlabel='Time, $t$ / h',\n",
    "       ylabel='Temperatue, $θ_i$ / °C',\n",
    "       title='Step input: outdoor temperature $T_o$')\n",
    "ax.legend(['θia - explicit', 'θwi - explicit',\n",
    "           'θia - implicit', 'θwi - implicit'])\n",
    "ax.grid()\n",
    "plt.show()"
   ]
  },
  {
   "cell_type": "markdown",
   "id": "e647a7c0-c3f4-49a6-a8b1-6efbaf4c9675",
   "metadata": {},
   "source": [
    "## Using dm4bem and tutorial 3 (simple building)"
   ]
  },
  {
   "cell_type": "code",
   "execution_count": 8,
   "id": "1a0afc99-16ea-4e20-aa30-fbc83f7d6cb5",
   "metadata": {
    "tags": []
   },
   "outputs": [
    {
     "name": "stdout",
     "output_type": "stream",
     "text": [
      "dt = 180.0 s = 3 min\n",
      "Settling time: 995159 s = 16586.0 min = 276.43 h = 11.52 days\n"
     ]
    },
    {
     "data": {
      "image/png": "[encoded data removed]",
      "text/plain": [
       "<Figure size 432x288 with 1 Axes>"
      ]
     },
     "metadata": {
      "needs_background": "light"
     },
     "output_type": "display_data"
    }
   ],
   "source": [
    "#!/usr/bin/env python3\n",
    "# -*- coding: utf-8 -*-\n",
    "\"\"\"\n",
    "Created on Sun Jul 16 13:57:13 2023\n",
    "\n",
    "@author: cghiaus\n",
    "\n",
    "Example from 03CubicBuilding.ipynb and 041tc2ss_ass.ipynb\n",
    "treated with:\n",
    "    dm4bem.tc2ss: without assembling\n",
    "    pd_dm4bem.tc2ss: with assembling\n",
    "\n",
    "Use the same notations figure TC.svg\n",
    "\n",
    "\"\"\"\n",
    "import numpy as np\n",
    "import pandas as pd\n",
    "import matplotlib.pyplot as plt\n",
    "import dm4bem\n",
    "import pd_dm4bem\n",
    "\n",
    "\"\"\"\n",
    "dm4bem.tc2ss: without assembling\n",
    "\"\"\"\n",
    "TC0 = pd.read_csv(\"./bldg_inputs/TC0.csv\")\n",
    "TC1 = pd.read_csv(\"./bldg_inputs/TC1.csv\")\n",
    "TC2 = pd.read_csv(\"./bldg_inputs/TC2.csv\")\n",
    "TC3 = pd.read_csv(\"./bldg_inputs/TC3.csv\")\n",
    "\n",
    "wS = pd.read_csv(\"./bldg_inputs/walls_out.csv\")\n",
    "\n",
    "w = pd.read_csv(\"./bldg_inputs/wall_types.csv\")\n",
    "w0 = w[w['type'] == 0]\n",
    "w0.set_index('Material', inplace=True)\n",
    "\n",
    "A = np.zeros([12, 8])       # n° of branches X n° of nodes\n",
    "A[0, 7], A[0, 1] = -1, 1\n",
    "A[1, 0] = 1\n",
    "A[2, 0], A[2, 1] = -1, 1\n",
    "A[3, 1], A[3, 2] = -1, 1\n",
    "A[4, 2] = 1\n",
    "A[5, 2] = 1\n",
    "A[6, 3] = 1\n",
    "A[7, 3], A[7, 4] = -1, 1\n",
    "A[8, 4], A[8, 5] = -1, 1\n",
    "A[9, 5], A[9, 6] = -1, 1\n",
    "A[10, 6], A[10, 7] = -1, 1\n",
    "A[11, 7], A[11, 2] = -1, 1\n",
    "\n",
    "\n",
    "G = np.zeros(A.shape[0])\n",
    "\n",
    "G[0] = TC0.loc[0]['G']\n",
    "G[1] = TC1.loc[0]['G']\n",
    "G[2] = TC1.loc[1]['G']\n",
    "G[3] = TC1.loc[2]['G']\n",
    "G[4] = TC2.loc[0]['G']\n",
    "G[5] = TC3.loc[0]['G']\n",
    "G[6] = wS.loc[0]['h0'] * wS.loc[0]['Area']\n",
    "G[7] = G[8] = w0.loc[\n",
    "    'Insulation']['Conductivity'] / (w0.loc[\n",
    "        'Insulation']['Width'] / 2) * wS.loc[0]['Area']\n",
    "G[9] = G[10] = w0.loc[\n",
    "    'Concrete']['Conductivity'] / (w0.loc[\n",
    "        'Concrete']['Width'] / 2) * wS.loc[0]['Area']\n",
    "G[11] = wS.loc[0]['h1'] * wS.loc[0]['Area']\n",
    "\n",
    "\n",
    "# C = np.array([0., 239580., 0., 18216000., 0., 0., 32400., 1089000.])\n",
    "\n",
    "C = np.zeros(A.shape[1])\n",
    "\n",
    "C[0] = TC1.loc[TC1['A'] == 'C', 'θg']\n",
    "C[2] = TC2.loc[TC2['A'] == 'C', 'θ0']\n",
    "C[4] = w0.loc[\n",
    "    'Insulation']['Density'] * w0.loc[\n",
    "        'Insulation']['Specific heat'] * w0.loc[\n",
    "            'Insulation']['Width'] * wS.loc[0]['Area']\n",
    "C[6] = w0.loc[\n",
    "    'Concrete']['Density'] * w0.loc[\n",
    "        'Concrete']['Specific heat'] * w0.loc[\n",
    "            'Concrete']['Width'] * wS.loc[0]['Area']\n",
    "\n",
    "b = np.zeros(12)        # all branches\n",
    "b[[1, 4, 5, 6]] = 1     # branches with temperature sources\n",
    "\n",
    "f = np.zeros(8)         # all nodes\n",
    "f[[0, 2, 3, 7]] = 1     # nodes with heat-flow sources\n",
    "\n",
    "y = np.zeros(8)         # nodes\n",
    "y[[2, 7]] = 1           # nodes: in wall surface, in air\n",
    "\n",
    "[As, Bs, Cs, Ds] = dm4bem.tc2ss(A, np.diag(G), np.diag(C), b, f, y)\n",
    "\n",
    "# ------------------\n",
    "# Dynamic simulation\n",
    "# ------------------\n",
    "# time step smaller than dtmax = min(−2/𝜆𝑖)\n",
    "λ = np.linalg.eig(As)[0]    # eigenvalues of matrix As\n",
    "dtmax = 2 * min(-1. / λ)\n",
    "dt = np.floor(dtmax / 60) * 60   # s\n",
    "print(f'dt = {dt} s = {dt / 60:.0f} min')\n",
    "\n",
    "# settling time\n",
    "time_const = np.array([int(x) for x in sorted(-1 / λ)])\n",
    "t_settle = 4 * max(-1 / λ)\n",
    "print(f'Settling time: \\\n",
    "{t_settle:.0f} s = \\\n",
    "{t_settle / 60:.1f} min = \\\n",
    "{t_settle / (3600):.2f} h = \\\n",
    "{t_settle / (3600 * 24):.2f} days')\n",
    "\n",
    "# Step response\n",
    "# -------------\n",
    "# duration: next multiple of 3600 s that is larger than t_settle\n",
    "duration = np.ceil(t_settle / 3600) * 3600\n",
    "n = int(np.floor(duration / dt))        # number of time steps\n",
    "t = np.arange(0, n * dt, dt)            # time vector for n time steps\n",
    "\n",
    "# input vector\n",
    "u = np.zeros([8, n])                    # u = [To To Ti_sp To Φ Qa Qo Qi]\n",
    "u[[0, 1, 3], :] = 10 * np.ones([3, n])  # To = 10 for n time steps\n",
    "u[2, :] = 20 * np.ones([1, n])          # Ti_sp\n",
    "\n",
    "# initial conditions\n",
    "n_s = As.shape[0]                       # number of state variables\n",
    "θ_exp = np.zeros([n_s, t.shape[0]])     # explicit Euler in time t\n",
    "θ_imp = np.zeros([n_s, t.shape[0]])     # implicit Euler in time t\n",
    "\n",
    "# time integration\n",
    "I = np.eye(n_s)                         # identity matrix\n",
    "\n",
    "for k in range(n - 1):\n",
    "    θ_exp[:, k + 1] = (I + dt * As) @\\\n",
    "        θ_exp[:, k] + dt * Bs @ u[:, k]\n",
    "    θ_imp[:, k + 1] = np.linalg.inv(I - dt * As) @\\\n",
    "        (θ_imp[:, k] + dt * Bs @ u[:, k])\n",
    "\n",
    "# outputs\n",
    "y_exp = Cs @ θ_exp + Ds @  u\n",
    "y_imp = Cs @ θ_imp + Ds @  u\n",
    "\n",
    "# plot\n",
    "fig, ax = plt.subplots()\n",
    "ax.plot(t / 3600, y_exp.T, t / 3600, y_imp.T)\n",
    "ax.set(xlabel='Time, $t$ / h',\n",
    "       ylabel='Temperatue, $θ_i$ / °C',\n",
    "       title='Step input: outdoor temperature $T_o$')\n",
    "ax.legend(['θia - explicit', 'θwi - explicit',\n",
    "           'θia - implicit', 'θwi - implicit'])\n",
    "ax.grid()\n",
    "plt.show()"
   ]
  }
 ],
 "metadata": {
  "kernelspec": {
   "display_name": "Python 3 (ipykernel)",
   "language": "python",
   "name": "python3"
  },
  "language_info": {
   "codemirror_mode": {
    "name": "ipython",
    "version": 3
   },
   "file_extension": ".py",
   "mimetype": "text/x-python",
   "name": "python",
   "nbconvert_exporter": "python",
   "pygments_lexer": "ipython3",
   "version": "3.9.7"
  },
  "toc-autonumbering": true
 },
 "nbformat": 4,
 "nbformat_minor": 5
}
