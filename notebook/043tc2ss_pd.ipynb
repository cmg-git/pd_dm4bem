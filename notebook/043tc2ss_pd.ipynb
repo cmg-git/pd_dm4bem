{
 "cells": [
  {
   "cell_type": "markdown",
   "id": "3dfb3912-f05b-42d7-8be3-9be46fec9149",
   "metadata": {},
   "source": [
    "# Transformation from thermal circuit to state-space: cmparison betwen dm4bem and pd_dm4bem\n",
    "\n",
    "Example from `03CubicBuilding.ipynb` and `041tc2ss_ass.ipynb`.\n",
    "\n",
    "Treated with:\n",
    "    `dm4bem.tc2ss`: without assembling\n",
    "    `pd_dm4bem.tc2ss`: with assembling\n",
    "\n",
    "Use the same notations figure TC.svg"
   ]
  },
  {
   "cell_type": "code",
   "execution_count": 1,
   "id": "f0b1115b-8ede-49bc-ab13-600433227e08",
   "metadata": {},
   "outputs": [],
   "source": [
    "import numpy as np\n",
    "import pandas as pd\n",
    "import dm4bem\n",
    "import pd_dm4bem"
   ]
  },
  {
   "cell_type": "markdown",
   "id": "828647f2-ecbf-46cf-909d-599350232c47",
   "metadata": {},
   "source": [
    "## Thermal circuit for `dm4bem.tc2ss()`\n",
    "\n",
    "Let's consider the thermal circuit TC = {A, G, C, b, f, y} used to obtain the state-space representation `dm4bem.tc2ss()` (Figure 1). \n",
    "\n",
    "![tc_sym](./bldg_tc2ss_pd/TC.svg)\n",
    "> Figure 1. Thermal circuit for `dm4bem.tc2ss()`."
   ]
  },
  {
   "cell_type": "code",
   "execution_count": 2,
   "id": "0ec28ca8-195e-4d24-9520-0907f2f9b09e",
   "metadata": {},
   "outputs": [
    {
     "name": "stdout",
     "output_type": "stream",
     "text": [
      "As = \n",
      " [[-2.41440668e-04  6.80230103e-05  0.00000000e+00  2.11779883e-05]\n",
      " [ 2.28632896e-03 -9.42774014e-03  0.00000000e+00  6.86363341e-03]\n",
      " [ 0.00000000e+00  0.00000000e+00 -2.44403914e-04  1.20952723e-04]\n",
      " [ 1.26607539e-06  1.22080436e-05  1.59079125e-06 -1.50649103e-05]] \n",
      "\n",
      "Bs = \n",
      " [[1.52239669e-04 0.00000000e+00 0.00000000e+00 0.00000000e+00\n",
      "  9.18273646e-07 0.00000000e+00 0.00000000e+00 3.36158545e-08]\n",
      " [0.00000000e+00 2.77777778e-04 0.00000000e+00 0.00000000e+00\n",
      "  0.00000000e+00 3.08641975e-05 0.00000000e+00 1.08946562e-05]\n",
      " [0.00000000e+00 0.00000000e+00 0.00000000e+00 1.23451191e-04\n",
      "  0.00000000e+00 0.00000000e+00 1.09734392e-07 0.00000000e+00]\n",
      " [0.00000000e+00 0.00000000e+00 0.00000000e+00 0.00000000e+00\n",
      "  0.00000000e+00 0.00000000e+00 0.00000000e+00 3.35093036e-08]] \n",
      "\n",
      "Cs = \n",
      " [[0.         1.         0.         0.        ]\n",
      " [0.03660767 0.35298686 0.         0.61040547]] \n",
      "\n",
      "Ds = \n",
      " [[0.        0.        0.        0.        0.        0.        0.\n",
      "  0.       ]\n",
      " [0.        0.        0.        0.        0.        0.        0.\n",
      "  0.0009689]] \n",
      "\n"
     ]
    }
   ],
   "source": [
    "\"\"\"\n",
    "dm4bem.tc2ss: without assembling\n",
    "\"\"\"\n",
    "TC0 = pd.read_csv(\"./bldg_tc2ss_pd/TC0.csv\")\n",
    "TC1 = pd.read_csv(\"./bldg_tc2ss_pd/TC1.csv\")\n",
    "TC2 = pd.read_csv(\"./bldg_tc2ss_pd/TC2.csv\")\n",
    "TC3 = pd.read_csv(\"./bldg_tc2ss_pd/TC3.csv\")\n",
    "\n",
    "wS = pd.read_csv(\"./bldg/walls_out.csv\")\n",
    "\n",
    "w = pd.read_csv(\"./bldg/wall_types.csv\")\n",
    "w0 = w[w['type'] == 0]\n",
    "w0.set_index('Material', inplace=True)\n",
    "\n",
    "A = np.zeros([12, 8])       # n° of branches X n° of nodes\n",
    "A[0, 7], A[0, 1] = -1, 1\n",
    "A[1, 0] = 1\n",
    "A[2, 0], A[2, 1] = -1, 1\n",
    "A[3, 1], A[3, 2] = -1, 1\n",
    "A[4, 2] = 1\n",
    "A[5, 2] = 1\n",
    "A[6, 3] = 1\n",
    "A[7, 3], A[7, 4] = -1, 1\n",
    "A[8, 4], A[8, 5] = -1, 1\n",
    "A[9, 5], A[9, 6] = -1, 1\n",
    "A[10, 6], A[10, 7] = -1, 1\n",
    "A[11, 7], A[11, 2] = -1, 1\n",
    "\n",
    "\n",
    "G = np.zeros(A.shape[0])\n",
    "G[0] = TC0.loc[0]['G']\n",
    "G[1] = TC1.loc[0]['G']\n",
    "G[2] = TC1.loc[1]['G']\n",
    "G[3] = TC1.loc[2]['G']\n",
    "G[4] = TC2.loc[0]['G']\n",
    "G[5] = TC3.loc[0]['G']\n",
    "G[6] = wS.loc[0]['h0'] * wS.loc[0]['Area']\n",
    "G[7] = G[8] = w0.loc[\n",
    "    'Insulation']['Conductivity'] / (w0.loc[\n",
    "        'Insulation']['Width'] / 2) * wS.loc[0]['Area']\n",
    "G[9] = G[10] = w0.loc[\n",
    "    'Concrete']['Conductivity'] / (w0.loc[\n",
    "        'Concrete']['Width'] / 2) * wS.loc[0]['Area']\n",
    "G[11] = wS.loc[0]['h1'] * wS.loc[0]['Area']\n",
    "\n",
    "\n",
    "C = np.zeros(A.shape[1])\n",
    "C[0] = TC1.loc[TC1['A'] == 'C', 'θg']\n",
    "C[2] = TC2.loc[TC2['A'] == 'C', 'θ0']\n",
    "C[4] = w0.loc[\n",
    "    'Insulation']['Density'] * w0.loc[\n",
    "        'Insulation']['Specific heat'] * w0.loc[\n",
    "            'Insulation']['Width'] * wS.loc[0]['Area']\n",
    "C[6] = w0.loc[\n",
    "    'Concrete']['Density'] * w0.loc[\n",
    "        'Concrete']['Specific heat'] * w0.loc[\n",
    "            'Concrete']['Width'] * wS.loc[0]['Area']\n",
    "\n",
    "b = np.zeros(12)        # all branches\n",
    "b[[1, 4, 5, 6]] = 1     # branches with temperature sources\n",
    "\n",
    "f = np.zeros(8)         # all nodes\n",
    "f[[0, 2, 3, 7]] = 1     # nodes with heat-flow sources\n",
    "\n",
    "y = np.zeros(8)         # nodes\n",
    "y[[2, 7]] = 1           # nodes: in wall surface, in air\n",
    "\n",
    "[As, Bs, Cs, Ds] = dm4bem.tc2ss(A, np.diag(G), np.diag(C), b, f, y)\n",
    "print('As = \\n', As, '\\n')\n",
    "print('Bs = \\n', Bs, '\\n')\n",
    "print('Cs = \\n', Cs, '\\n')\n",
    "print('Ds = \\n', Ds, '\\n')"
   ]
  },
  {
   "cell_type": "markdown",
   "id": "13ee0a26-37e0-4151-a20f-dfa4e943cf55",
   "metadata": {},
   "source": [
    "## Thermal circuit for `pd_dm4bem.tc2ss()`\n",
    "\n",
    "Let's consider the thermal circuit TCl obtained by assembling according to  used to obtain the state-space representation `dm4bem.tc2ss()` (Figure 1). \n",
    "\n",
    "![tc_sym](./bldg_tc2ss_pd/TC.svg)\n",
    "> Figure 1. Thermal circuit for `dm4bem.tc2ss()`."
   ]
  },
  {
   "cell_type": "code",
   "execution_count": 3,
   "id": "4ed638df-c8ae-49b2-b3a4-710cb0f83b03",
   "metadata": {},
   "outputs": [],
   "source": [
    "# Dissasembled thermal circuits\n",
    "folder_path = \"bldg_tc2ss_pd\"\n",
    "TCd = pd_dm4bem.bldg2TCd(folder_path,\n",
    "                         TC_auto_number=True)\n",
    "# For non auto-numbering of thermal circuits TC\n",
    "# TCd = pd_dm4bem.bldg2TCd(folder_path, TC_auto_number=False)\n",
    "\n",
    "# Assembled thermal circuit\n",
    "# from assembly_matrix.csv')\n",
    "ass_mat = pd.read_csv(folder_path + '/assembly_matrix.csv')\n",
    "TCm = pd_dm4bem.assemble_TCd_matrix(TCd, ass_mat)\n",
    "\n",
    "# from assembly_lists.csv'\n",
    "ass_lists = pd.read_csv(folder_path + '/assembly_lists.csv')\n",
    "ass_mat = pd_dm4bem.assemble_lists2matrix(ass_lists)\n",
    "TCl = pd_dm4bem.assemble_TCd_matrix(TCd, ass_mat)\n",
    "\n",
    "# State-space from TC\n",
    "[Al, Bl, Cl, Dl, ul] = pd_dm4bem.tc2ss(TCl)"
   ]
  },
  {
   "cell_type": "code",
   "execution_count": 4,
   "id": "d0904253-cc12-4fdf-b071-a20319bdce2b",
   "metadata": {},
   "outputs": [
    {
     "name": "stdout",
     "output_type": "stream",
     "text": [
      "absolute maximum difference between As and Al:\n"
     ]
    },
    {
     "data": {
      "text/plain": [
       "0.0"
      ]
     },
     "execution_count": 4,
     "metadata": {},
     "output_type": "execute_result"
    }
   ],
   "source": [
    "print('absolute maximum difference between As and Al:')\n",
    "(As - Al).abs().max().max()"
   ]
  },
  {
   "cell_type": "code",
   "execution_count": 5,
   "id": "f2f0d41a-a015-483d-b14f-f6b46da8aa17",
   "metadata": {},
   "outputs": [
    {
     "name": "stdout",
     "output_type": "stream",
     "text": [
      "absolute maximum difference between Bs and Bl:\n"
     ]
    },
    {
     "data": {
      "text/plain": [
       "0.0"
      ]
     },
     "execution_count": 5,
     "metadata": {},
     "output_type": "execute_result"
    }
   ],
   "source": [
    "print('absolute maximum difference between Bs and Bl:')\n",
    "(Bs - Bl).abs().max().max()"
   ]
  },
  {
   "cell_type": "code",
   "execution_count": 6,
   "id": "92213c15-c3a5-4610-8ec0-9de85ba434fd",
   "metadata": {},
   "outputs": [
    {
     "name": "stdout",
     "output_type": "stream",
     "text": [
      "absolute maximum difference between Cs and Cl:\n"
     ]
    },
    {
     "data": {
      "text/plain": [
       "0.0"
      ]
     },
     "execution_count": 6,
     "metadata": {},
     "output_type": "execute_result"
    }
   ],
   "source": [
    "print('absolute maximum difference between Cs and Cl:')\n",
    "(Cs - Cl).abs().max().max()"
   ]
  },
  {
   "cell_type": "code",
   "execution_count": 7,
   "id": "a58e9372-dd1f-4047-9b87-217c52add6de",
   "metadata": {},
   "outputs": [
    {
     "name": "stdout",
     "output_type": "stream",
     "text": [
      "absolute maximum difference between Ds and Dl:\n"
     ]
    },
    {
     "data": {
      "text/plain": [
       "0.0"
      ]
     },
     "execution_count": 7,
     "metadata": {},
     "output_type": "execute_result"
    }
   ],
   "source": [
    "print('absolute maximum difference between Ds and Dl:')\n",
    "(Ds - Dl).abs().max().max()"
   ]
  }
 ],
 "metadata": {
  "kernelspec": {
   "display_name": "Python 3 (ipykernel)",
   "language": "python",
   "name": "python3"
  },
  "language_info": {
   "codemirror_mode": {
    "name": "ipython",
    "version": 3
   },
   "file_extension": ".py",
   "mimetype": "text/x-python",
   "name": "python",
   "nbconvert_exporter": "python",
   "pygments_lexer": "ipython3",
   "version": "3.9.7"
  }
 },
 "nbformat": 4,
 "nbformat_minor": 5
}
