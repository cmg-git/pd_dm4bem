{
 "cells": [
  {
   "cell_type": "markdown",
   "id": "bf592692-0b64-49a7-92df-7723f80846dd",
   "metadata": {},
   "source": [
    "# Input vector in time: wetaher\n",
    "<div class=\"alert alert-block alert-warning\">\n",
    "<b>Note:</b> \n",
    "    \n",
    "    - To be done\n",
    "    \n",
    "    - Input data needs to be read from a `.csv` file as a DataFrame.\n",
    "</div>\n",
    "\n",
    "Verify with the results obtained in tutorial 3 of `dm4bem`"
   ]
  },
  {
   "cell_type": "code",
   "execution_count": 1,
   "id": "21ad7e12-c693-46df-9e5d-30162ed92eae",
   "metadata": {},
   "outputs": [],
   "source": [
    "import numpy as np\n",
    "import pandas as pd\n",
    "import matplotlib.pyplot as plt\n",
    "import dm4bem\n",
    "import pd_dm4bem"
   ]
  }
 ],
 "metadata": {
  "kernelspec": {
   "display_name": "Python 3 (ipykernel)",
   "language": "python",
   "name": "python3"
  },
  "language_info": {
   "codemirror_mode": {
    "name": "ipython",
    "version": 3
   },
   "file_extension": ".py",
   "mimetype": "text/x-python",
   "name": "python",
   "nbconvert_exporter": "python",
   "pygments_lexer": "ipython3",
   "version": "3.9.7"
  },
  "toc-autonumbering": true
 },
 "nbformat": 4,
 "nbformat_minor": 5
}
