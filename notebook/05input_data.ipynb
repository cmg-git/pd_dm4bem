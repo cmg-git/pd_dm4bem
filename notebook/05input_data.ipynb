{
 "cells": [
  {
   "cell_type": "markdown",
   "id": "d71c6237-5bf0-4016-a990-1c75fe283228",
   "metadata": {},
   "source": [
    "# Input data\n",
    "\n",
    "<div class=\"alert alert-block alert-warning\">\n",
    "<b>Note:</b>This needs to be developed\n",
    "</div>\n",
    "\n",
    "Calculates inputs in time from:\n",
    "- weather data for outdoor temperature,\n",
    "- schedules for indoor temperature set-point,\n",
    "- weather data and characteristics of the walls for solar flows on outdoor surfaces of the walls,\n",
    "- flow through windows and view factors for solar flow flows on indoor surfaces of the walls, \n",
    "- schedules for indoor loads."
   ]
  },
  {
   "cell_type": "code",
   "execution_count": null,
   "id": "92ac19ef-a0dd-4834-9e72-c0183a873bb1",
   "metadata": {},
   "outputs": [],
   "source": []
  }
 ],
 "metadata": {
  "kernelspec": {
   "display_name": "Python 3 (ipykernel)",
   "language": "python",
   "name": "python3"
  },
  "language_info": {
   "codemirror_mode": {
    "name": "ipython",
    "version": 3
   },
   "file_extension": ".py",
   "mimetype": "text/x-python",
   "name": "python",
   "nbconvert_exporter": "python",
   "pygments_lexer": "ipython3",
   "version": "3.9.7"
  }
 },
 "nbformat": 4,
 "nbformat_minor": 5
}
