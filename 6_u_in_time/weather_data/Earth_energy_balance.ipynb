{
 "cells": [
  {
   "cell_type": "markdown",
   "id": "bd0e0d9b-25d6-417a-80b4-2b6744cbf00d",
   "metadata": {},
   "source": [
    "# Earth's Energy Balance\n",
    "\n",
    "\"Solar constant\" varies over time [NASA](https://spacemath.gsfc.nasa.gov/SMBooks/SMEarthV2.pdf#page=66). After 1950, it is 1366 W/m².\n",
    "\n",
    "\"since the late 1970s, scientists estimate Earth’s average albedo is about about 0.30\" [NASA](https://earthobservatory.nasa.gov/images/84499/measuring-earths-albedo).\n",
    "\n",
    "\"The average amount of solar energy falling on one square meter of level surface outside of Earth's atmosphere is about 342 watts.\" [Earth energy balance](https://www.ces.fau.edu/nasa/module-2/earth-energy-balance.php#:~:text=You%20have%20learned%20that%20Earth%27s,%2C%20or%2059°F), [NASA](https://earthobservatory.nasa.gov/features/EnergyBalance)"
   ]
  },
  {
   "cell_type": "code",
   "execution_count": null,
   "id": "f41bcccf-15c1-4e8c-882b-4643b0872801",
   "metadata": {},
   "outputs": [],
   "source": []
  }
 ],
 "metadata": {
  "kernelspec": {
   "display_name": "Python 3 (ipykernel)",
   "language": "python",
   "name": "python3"
  },
  "language_info": {
   "codemirror_mode": {
    "name": "ipython",
    "version": 3
   },
   "file_extension": ".py",
   "mimetype": "text/x-python",
   "name": "python",
   "nbconvert_exporter": "python",
   "pygments_lexer": "ipython3",
   "version": "3.9.7"
  }
 },
 "nbformat": 4,
 "nbformat_minor": 5
}
