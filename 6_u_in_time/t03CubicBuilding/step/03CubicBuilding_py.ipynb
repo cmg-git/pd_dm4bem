{
 "cells": [
  {
   "cell_type": "markdown",
   "id": "35a53b91-f1eb-4c06-983f-3aaa32ac5a87",
   "metadata": {
    "tags": []
   },
   "source": [
    "# Thermal circuit and state-space representation for a thermal circuit with capacities in some nodes: cubic building"
   ]
  },
  {
   "cell_type": "code",
   "execution_count": 1,
   "id": "764b77e2-3f93-4484-9842-6b328305d517",
   "metadata": {},
   "outputs": [],
   "source": [
    "import numpy as np\n",
    "import pandas as pd\n",
    "import matplotlib.pyplot as plt\n",
    "import dm4bem"
   ]
  },
  {
   "cell_type": "code",
   "execution_count": 2,
   "id": "e81f680f-dfcf-42a7-95f0-25869b407aee",
   "metadata": {},
   "outputs": [],
   "source": [
    "l = 3               # m length of the cubic room\n",
    "Sg = l**2           # m² surface of the glass wall\n",
    "Sc = Si = 5 * Sg    # m² surface of concrete & insulation of the 5 walls"
   ]
  },
  {
   "cell_type": "code",
   "execution_count": 3,
   "id": "6b636b8a-a7af-4ebe-9eee-578dea6f7742",
   "metadata": {},
   "outputs": [],
   "source": [
    "air = {'Density': 1.2,                      # kg/m³\n",
    "       'Specific heat': 1000}               # J/(kg·K)"
   ]
  },
  {
   "cell_type": "code",
   "execution_count": 4,
   "id": "2db86dfc-2fd4-4a32-94b2-a21dcd1286c8",
   "metadata": {},
   "outputs": [],
   "source": [
    "concrete = {'Conductivity': 1.400,\n",
    "            'Density': 2300.0,\n",
    "            'Specific heat': 880,\n",
    "            'Width': 0.2,\n",
    "            'Surface': 5 * l**2}\n",
    "\n",
    "insulation = {'Conductivity': 0.027,\n",
    "              'Density': 55.0,\n",
    "              'Specific heat': 1210,\n",
    "              'Width': 0.08,\n",
    "              'Surface': 5 * l**2}\n",
    "\n",
    "glass = {'Conductivity': 1.4,\n",
    "         'Density': 2500,\n",
    "         'Specific heat': 1210,\n",
    "         'Width': 0.04,\n",
    "         'Surface': l**2}\n",
    "\n",
    "wall = pd.DataFrame.from_dict({'Layer_out': insulation,\n",
    "                               'Layer_in': concrete,\n",
    "                               'Glass': glass},\n",
    "                              orient='index')"
   ]
  },
  {
   "cell_type": "code",
   "execution_count": 5,
   "id": "415dff20-125d-4988-b863-90e17919f217",
   "metadata": {},
   "outputs": [],
   "source": [
    "# radiative properties\n",
    "ε_wLW = 0.85    # long wave emmisivity: wall surface (concrete)\n",
    "ε_gLW = 0.90    # long wave emmisivity: glass pyrex\n",
    "α_wSW = 0.25    # short wave absortivity: white smooth surface\n",
    "α_gSW = 0.38    # short wave absortivity: reflective blue glass\n",
    "τ_gSW = 0.30    # short wave transmitance: reflective blue glass"
   ]
  },
  {
   "cell_type": "code",
   "execution_count": 6,
   "id": "1de290ff-7474-4623-aca9-fadfd45593ee",
   "metadata": {},
   "outputs": [],
   "source": [
    "σ = 5.67e-8     # W/(m²⋅K⁴) Stefan-Bolzmann constant"
   ]
  },
  {
   "cell_type": "code",
   "execution_count": 7,
   "id": "c77bc614-0b91-4d45-93b6-8562947255de",
   "metadata": {},
   "outputs": [],
   "source": [
    "h = pd.DataFrame([{'in': 8., 'out': 25}], index=['h'])  # W/(m²⋅K)"
   ]
  },
  {
   "cell_type": "code",
   "execution_count": 8,
   "id": "23b6045b-18c2-4598-8c3b-a3e95e9fe541",
   "metadata": {},
   "outputs": [],
   "source": [
    "# conduction\n",
    "G_cd = wall['Conductivity'] / wall['Width'] * wall['Surface']"
   ]
  },
  {
   "cell_type": "code",
   "execution_count": 9,
   "id": "3df65dcd-7962-42f5-80f2-e71d4cbc6486",
   "metadata": {},
   "outputs": [],
   "source": [
    "# convection\n",
    "Gw = h * wall['Surface'][0]     # wall\n",
    "Gg = h * wall['Surface'][2]     # glass"
   ]
  },
  {
   "cell_type": "code",
   "execution_count": 10,
   "id": "728db6f6-aa01-4f5c-8cae-6e3fd8a3ddc4",
   "metadata": {},
   "outputs": [],
   "source": [
    "# view factor wall-glass\n",
    "Fwg = glass['Surface'] / concrete['Surface']"
   ]
  },
  {
   "cell_type": "code",
   "execution_count": 11,
   "id": "f911a20f-4e20-43b3-aa72-a7e329a0b951",
   "metadata": {},
   "outputs": [],
   "source": [
    "# long wave radiation\n",
    "Tm = 20 + 273   # K, mean temp for radiative exchange\n",
    "\n",
    "GLW1 = 4 * σ * Tm**3 * ε_wLW / (1 - ε_wLW) * wall['Surface']['Layer_in']\n",
    "GLW12 = 4 * σ * Tm**3 * Fwg * wall['Surface']['Layer_in']\n",
    "GLW2 = 4 * σ * Tm**3 * ε_gLW / (1 - ε_gLW) * wall['Surface']['Glass']"
   ]
  },
  {
   "cell_type": "code",
   "execution_count": 12,
   "id": "8f9999e8-b7ed-4f5b-87c9-5068d576b05e",
   "metadata": {},
   "outputs": [],
   "source": [
    "GLW = 1 / (1 / GLW1 + 1 / GLW12 + 1 / GLW2)"
   ]
  },
  {
   "cell_type": "code",
   "execution_count": 13,
   "id": "4de7fa16-19de-449b-b932-58a89ad98fb5",
   "metadata": {},
   "outputs": [],
   "source": [
    "# ventilation flow rate\n",
    "Va = l**3                   # m³, volume of air\n",
    "ACH = 1                     # air changes per hour\n",
    "Va_dot = ACH / 3600 * Va    # m³/s, air infiltration"
   ]
  },
  {
   "cell_type": "code",
   "execution_count": 14,
   "id": "12396b52-d8be-4445-8360-0f70c905d7f8",
   "metadata": {},
   "outputs": [],
   "source": [
    "# ventilation & advection\n",
    "Gv = air['Density'] * air['Specific heat'] * Va_dot"
   ]
  },
  {
   "cell_type": "code",
   "execution_count": 15,
   "id": "b2e864e6-7854-465c-8049-18967065e84f",
   "metadata": {},
   "outputs": [],
   "source": [
    "# P-controler gain\n",
    "Kp = 1e4            # almost perfect controller Kp -> ∞\n",
    "Kp = 1e-3           # no controller Kp -> 0\n",
    "Kp = 0"
   ]
  },
  {
   "cell_type": "code",
   "execution_count": 16,
   "id": "00673392-3443-4a45-8772-2533b07bfe51",
   "metadata": {},
   "outputs": [],
   "source": [
    "# glass: convection outdoor & conduction\n",
    "Ggs = float(1 / (1 / Gg['out'] + 1 / (2 * G_cd['Glass'])))"
   ]
  },
  {
   "cell_type": "code",
   "execution_count": 17,
   "id": "069c5751-493f-46a9-9d62-d415c8c86c36",
   "metadata": {},
   "outputs": [],
   "source": [
    "C = wall['Density'] * wall['Specific heat'] * wall['Surface'] * wall['Width']"
   ]
  },
  {
   "cell_type": "code",
   "execution_count": 18,
   "id": "5ad5ddf7-6842-4ad5-adf0-61081c440ef1",
   "metadata": {},
   "outputs": [],
   "source": [
    "C['Air'] = air['Density'] * air['Specific heat'] * Va"
   ]
  },
  {
   "cell_type": "code",
   "execution_count": 19,
   "id": "beaddf90-558e-45e4-a912-f5db92f2430a",
   "metadata": {},
   "outputs": [],
   "source": [
    "A = np.zeros([12, 8])       # n° of branches X n° of nodes\n",
    "A[0, 0] = 1                 # branch 0: -> node 0\n",
    "A[1, 0], A[1, 1] = -1, 1    # branch 1: node 0 -> node 1\n",
    "A[2, 1], A[2, 2] = -1, 1    # branch 2: node 1 -> node 2\n",
    "A[3, 2], A[3, 3] = -1, 1    # branch 3: node 2 -> node 3\n",
    "A[4, 3], A[4, 4] = -1, 1    # branch 4: node 3 -> node 4\n",
    "A[5, 4], A[5, 5] = -1, 1    # branch 5: node 4 -> node 5\n",
    "A[6, 4], A[6, 6] = -1, 1    # branch 6: node 4 -> node 6\n",
    "A[7, 5], A[7, 6] = -1, 1    # branch 7: node 5 -> node 6\n",
    "A[8, 7] = 1                 # branch 8: -> node 7\n",
    "A[9, 5], A[9, 7] = 1, -1    # branch 9: node 5 -> node 7\n",
    "A[10, 6] = 1                # branch 10: -> node 6\n",
    "A[11, 6] = 1                # branch 11: -> node 6"
   ]
  },
  {
   "cell_type": "code",
   "execution_count": 20,
   "id": "8c53e123-581d-40bd-8be5-0013a4b8e74f",
   "metadata": {},
   "outputs": [],
   "source": [
    "G = np.diag(np.hstack(\n",
    "    [Gw['out'],\n",
    "     2 * G_cd['Layer_out'], 2 * G_cd['Layer_out'],\n",
    "     2 * G_cd['Layer_in'], 2 * G_cd['Layer_in'],\n",
    "     GLW,\n",
    "     Gw['in'],\n",
    "     Gg['in'],\n",
    "     Ggs,\n",
    "     2 * G_cd['Glass'],\n",
    "     Gv,\n",
    "     Kp]))"
   ]
  },
  {
   "cell_type": "code",
   "execution_count": 21,
   "id": "ca2b5a02-7d8e-4292-8a91-46a4ffcc3200",
   "metadata": {},
   "outputs": [],
   "source": [
    "neglect_air_glass = False\n",
    "\n",
    "if neglect_air_glass:\n",
    "    C = np.diag([0, C['Layer_out'], 0, C['Layer_in'], 0, 0,\n",
    "                 0, 0])\n",
    "else:\n",
    "    C = np.diag([0, C['Layer_out'], 0, C['Layer_in'], 0, 0,\n",
    "                 C['Air'], C['Glass']])"
   ]
  },
  {
   "cell_type": "code",
   "execution_count": 22,
   "id": "26aab83c-5ed8-427a-8ec2-afdf98923cbf",
   "metadata": {},
   "outputs": [
    {
     "name": "stdout",
     "output_type": "stream",
     "text": [
      "b =  [1. 0. 0. 0. 0. 0. 0. 0. 1. 0. 1. 1.]\n"
     ]
    }
   ],
   "source": [
    "b = np.zeros(12)        # branches\n",
    "b[[0, 8, 10, 11]] = 1   # branches with temperature sources\n",
    "print(f'b = ', b)"
   ]
  },
  {
   "cell_type": "code",
   "execution_count": 23,
   "id": "0879a889-03f1-4858-b039-014ba391197d",
   "metadata": {},
   "outputs": [
    {
     "name": "stdout",
     "output_type": "stream",
     "text": [
      "f =  [1. 0. 0. 0. 1. 0. 1. 1.]\n"
     ]
    }
   ],
   "source": [
    "f = np.zeros(8)         # nodes\n",
    "f[[0, 4, 6, 7]] = 1     # nodes with heat-flow sources\n",
    "print(f'f = ', f)"
   ]
  },
  {
   "cell_type": "code",
   "execution_count": 24,
   "id": "19fe1e2e-15aa-4739-9524-8003117eac45",
   "metadata": {},
   "outputs": [
    {
     "name": "stdout",
     "output_type": "stream",
     "text": [
      "y =  [0. 0. 0. 0. 0. 0. 1. 0.]\n"
     ]
    }
   ],
   "source": [
    "y = np.zeros(8)         # nodes\n",
    "y[[6]] = 1              # nodes (temperatures) of interest\n",
    "print(f'y = ', y)"
   ]
  },
  {
   "cell_type": "markdown",
   "id": "c70c3d14-d402-4fb5-a7d0-18a83f556c97",
   "metadata": {
    "tags": []
   },
   "source": [
    "The [state-space representation](https://en.m.wikipedia.org/wiki/State-space_representation), i.e., matrices $A_s, B_s, C_s, D_s$ is obtained from the system of DAE, i.e., matrices and vectors $A, G, b, C, f, y$ ([Ghiaus 2013](https://hal.archives-ouvertes.fr/hal-03605823/document))."
   ]
  },
  {
   "cell_type": "code",
   "execution_count": 25,
   "id": "23c9de06-8be7-4dff-a734-027c31349e27",
   "metadata": {},
   "outputs": [
    {
     "name": "stdout",
     "output_type": "stream",
     "text": [
      "As = \n",
      " [[-2.44403914e-04  1.20952723e-04  0.00000000e+00  0.00000000e+00]\n",
      " [ 1.59079125e-06 -1.50649103e-05  1.22080436e-05  1.26607539e-06]\n",
      " [ 0.00000000e+00  6.86363341e-03 -9.42774014e-03  2.28632896e-03]\n",
      " [ 0.00000000e+00  2.11779883e-05  6.80230103e-05 -2.41441103e-04]] \n",
      "\n",
      "Bs = \n",
      " [[1.23451191e-04 0.00000000e+00 0.00000000e+00 0.00000000e+00\n",
      "  1.09734392e-07 0.00000000e+00 0.00000000e+00 0.00000000e+00]\n",
      " [0.00000000e+00 0.00000000e+00 0.00000000e+00 0.00000000e+00\n",
      "  0.00000000e+00 3.35093036e-08 0.00000000e+00 0.00000000e+00]\n",
      " [0.00000000e+00 0.00000000e+00 2.77777778e-04 0.00000000e+00\n",
      "  0.00000000e+00 1.08946562e-05 3.08641975e-05 0.00000000e+00]\n",
      " [0.00000000e+00 1.52240104e-04 0.00000000e+00 0.00000000e+00\n",
      "  0.00000000e+00 3.36158545e-08 0.00000000e+00 9.18273646e-07]] \n",
      "\n",
      "Cs = \n",
      " [[0. 0. 1. 0.]] \n",
      "\n",
      "Ds = \n",
      " [[0. 0. 0. 0. 0. 0. 0. 0.]] \n",
      "\n"
     ]
    }
   ],
   "source": [
    "[As, Bs, Cs, Ds] = dm4bem.tc2ss(A, G, C, b, f, y)\n",
    "print('As = \\n', As, '\\n')\n",
    "print('Bs = \\n', Bs, '\\n')\n",
    "print('Cs = \\n', Cs, '\\n')\n",
    "print('Ds = \\n', Ds, '\\n')"
   ]
  },
  {
   "cell_type": "code",
   "execution_count": 26,
   "id": "057d723f-cec3-479f-988d-c02e4359d3b1",
   "metadata": {},
   "outputs": [],
   "source": [
    "b = np.zeros(12)        # temperature sources\n",
    "b[[0, 8, 10]] = 10      # outdoor temperature\n",
    "b[[11]] = 20            # indoor set-point temperature\n",
    "\n",
    "f = np.zeros(8)         # flow-rate sources"
   ]
  },
  {
   "cell_type": "code",
   "execution_count": 27,
   "id": "a5612549-466d-4f50-93ce-09b1834a6164",
   "metadata": {},
   "outputs": [
    {
     "name": "stdout",
     "output_type": "stream",
     "text": [
      "θ = [10. 10. 10. 10. 10. 10. 10. 10.] °C\n"
     ]
    }
   ],
   "source": [
    "θ = np.linalg.inv(A.T @ G @ A) @ (A.T @ G @ b + f)\n",
    "print(f'θ = {θ} °C')"
   ]
  },
  {
   "cell_type": "code",
   "execution_count": 28,
   "id": "3780da0d-8598-4f86-bb83-fc64e91fede7",
   "metadata": {
    "tags": []
   },
   "outputs": [],
   "source": [
    "bT = np.array([10, 10, 10, 20])     # [To, To, To, Tisp]\n",
    "fQ = np.array([0, 0, 0, 0])         # [Φo, Φi, Qa, Φa]\n",
    "u = np.hstack([bT, fQ])"
   ]
  },
  {
   "cell_type": "code",
   "execution_count": 29,
   "id": "219ac224-2586-48e6-8424-29dcc399eada",
   "metadata": {},
   "outputs": [],
   "source": [
    "yss = (-Cs @ np.linalg.inv(As) @ Bs + Ds) @ u"
   ]
  },
  {
   "cell_type": "code",
   "execution_count": 30,
   "id": "87a59afc-9c44-4f8b-9df7-22acfce592b4",
   "metadata": {},
   "outputs": [
    {
     "name": "stdout",
     "output_type": "stream",
     "text": [
      "Max error between DAE and state-space: 2.13e-14 °C\n"
     ]
    }
   ],
   "source": [
    "print(f'Max error between DAE and state-space: \\\n",
    "{max(abs(θ[6] - yss)):.2e} °C')"
   ]
  },
  {
   "cell_type": "markdown",
   "id": "747a5518-38c0-429a-9fbe-22154079afd1",
   "metadata": {
    "tags": []
   },
   "source": [
    "## Dynamic simulation"
   ]
  },
  {
   "cell_type": "code",
   "execution_count": 31,
   "id": "6327cf9d-eb39-4d3a-8151-9be60df30da8",
   "metadata": {},
   "outputs": [
    {
     "name": "stdout",
     "output_type": "stream",
     "text": [
      "Time constants: \n",
      " [1.05781075e+02 2.48789578e+05 4.07728197e+03 4.42708370e+03] s \n",
      "\n",
      "2 x Time constants: \n",
      " [2.11562150e+02 4.97579156e+05 8.15456394e+03 8.85416739e+03] s \n",
      "\n",
      "Maximum time step: 211.56 s = 3.53 min\n"
     ]
    }
   ],
   "source": [
    "λ = np.linalg.eig(As)[0]    # eigenvalues of matrix As\n",
    "\n",
    "print('Time constants: \\n', -1 / λ, 's \\n')\n",
    "print('2 x Time constants: \\n', -2 / λ, 's \\n')\n",
    "dtmax = 2 * min(-1. / λ)\n",
    "print(f'Maximum time step: {dtmax:.2f} s = {dtmax / 60:.2f} min')"
   ]
  },
  {
   "cell_type": "markdown",
   "id": "17f1b010-7d23-46f1-8c13-cc1e7704bc0c",
   "metadata": {},
   "source": [
    "Let's chose a time step smaller than $\\Delta t_{max} = \\min (-2 / \\lambda_i) $."
   ]
  },
  {
   "cell_type": "code",
   "execution_count": 32,
   "id": "d634f2a6-d989-42f4-8f51-d973d63b5027",
   "metadata": {},
   "outputs": [
    {
     "name": "stdout",
     "output_type": "stream",
     "text": [
      "dt = 180.0 s = 3 min\n"
     ]
    }
   ],
   "source": [
    "# time step\n",
    "dt = np.floor(dtmax / 60) * 60   # s\n",
    "print(f'dt = {dt} s = {dt / 60:.0f} min')"
   ]
  },
  {
   "cell_type": "code",
   "execution_count": 33,
   "id": "89a7aa43-6fb4-46d8-bb9b-5fbd15a7102e",
   "metadata": {},
   "outputs": [
    {
     "name": "stdout",
     "output_type": "stream",
     "text": [
      "4 * Time constants: \n",
      " [   420  16308  17708 995156] s \n",
      "\n",
      "Settling time: 995158 s = 16586.0 min = 276.43 h = 11.52 days\n"
     ]
    }
   ],
   "source": [
    "# settling time\n",
    "time_const = np.array([int(x) for x in sorted(-1 / λ)])\n",
    "print('4 * Time constants: \\n', 4 * time_const, 's \\n')\n",
    "\n",
    "t_settle = 4 * max(-1 / λ)\n",
    "print(f'Settling time: \\\n",
    "{t_settle:.0f} s = \\\n",
    "{t_settle / 60:.1f} min = \\\n",
    "{t_settle / (3600):.2f} h = \\\n",
    "{t_settle / (3600 * 24):.2f} days')"
   ]
  },
  {
   "cell_type": "code",
   "execution_count": 34,
   "id": "6062f401-b335-460a-bbba-61ddeb700662",
   "metadata": {},
   "outputs": [
    {
     "name": "stdout",
     "output_type": "stream",
     "text": [
      "Duration = 997200.0 s\n",
      "Number of time steps = 5540\n"
     ]
    }
   ],
   "source": [
    "# Step response\n",
    "# -------------\n",
    "# Find the next multiple of 3600 s that is larger than t_settle\n",
    "duration = np.ceil(t_settle / 3600) * 3600\n",
    "n = int(np.floor(duration / dt))    # number of time steps\n",
    "t = np.arange(0, n * dt, dt)        # time vector for n time steps\n",
    "\n",
    "print(f'Duration = {duration} s')\n",
    "print(f'Number of time steps = {n}')\n",
    "# pd.DataFrame(t, columns=['time'])"
   ]
  },
  {
   "cell_type": "code",
   "execution_count": 35,
   "id": "3da47c23-3af1-4515-b919-2b394a655a2f",
   "metadata": {},
   "outputs": [],
   "source": [
    "u = np.zeros([8, n])                # u = [To To To Tisp Φo Φi Qa Φa]\n",
    "u[0:3, :] = 10 * np.ones([3, n])    # To = 10 for n time steps\n",
    "u[3, :] = 20 * np.ones([1, n])      # Tisp = 20 for n time steps\n",
    "\n",
    "# pd.DataFrame(u)"
   ]
  },
  {
   "cell_type": "markdown",
   "id": "c6b0cfa0-301c-4bdb-8f36-8fa6d2bebee3",
   "metadata": {
    "tags": []
   },
   "source": [
    "By integrating the state-space model\n",
    "\n",
    "$$\\left\\{\\begin{array}{rr}\n",
    "\\dot{\\theta}_C=A_s \\theta_C + B_s u\\\\ \n",
    "y = C_s \\theta_C + D_s u\n",
    "\\end{array}\\right.$$\n",
    "\n",
    "by using [Euler forward (or explicit) method](https://en.m.wikipedia.org/wiki/Numerical_methods_for_ordinary_differential_equations#Euler_method) for numerical integration:\n",
    "\n",
    "$$ \\theta_{s,k+1} = (I + \\Delta t A) \\theta_{s,k} + \\Delta t B u_k $$\n",
    "\n",
    "and [Euler backward (or implicit) method](https://en.m.wikipedia.org/wiki/Numerical_methods_for_ordinary_differential_equations#Backward_Euler_method) for numerical integration:\n",
    "\n",
    "$$\\theta_{s,k+1} = (I - \\Delta t A)^{-1} ( \\theta_{s,k} + \\Delta t B u_k )$$\n",
    "\n",
    "where $k = 0, ... , n - 1$,"
   ]
  },
  {
   "cell_type": "code",
   "execution_count": 36,
   "id": "c6e318a6-782e-4976-8b9e-3f5bd0d01797",
   "metadata": {},
   "outputs": [],
   "source": [
    "n_s = As.shape[0]                      # number of state variables\n",
    "θ_exp = np.zeros([n_s, t.shape[0]])    # explicit Euler in time t\n",
    "θ_imp = np.zeros([n_s, t.shape[0]])    # implicit Euler in time t\n",
    "\n",
    "I = np.eye(n_s)                        # identity matrix\n",
    "\n",
    "for k in range(n - 1):\n",
    "    θ_exp[:, k + 1] = (I + dt * As) @\\\n",
    "        θ_exp[:, k] + dt * Bs @ u[:, k]\n",
    "    θ_imp[:, k + 1] = np.linalg.inv(I - dt * As) @\\\n",
    "        (θ_imp[:, k] + dt * Bs @ u[:, k])"
   ]
  },
  {
   "cell_type": "markdown",
   "id": "dc2b5250-4741-4dc7-9e48-f1961e6070b0",
   "metadata": {},
   "source": [
    "we obtain the outputs\n",
    "\n",
    "$$ y = C_s \\theta_s + D_s u$$\n",
    "\n",
    "for explicit and for implicit Euler methods, respectively."
   ]
  },
  {
   "cell_type": "code",
   "execution_count": 37,
   "id": "696aa2ef-3242-4a7c-a50d-bbf694a15b28",
   "metadata": {},
   "outputs": [],
   "source": [
    "y_exp = Cs @ θ_exp + Ds @  u\n",
    "y_imp = Cs @ θ_imp + Ds @  u"
   ]
  },
  {
   "cell_type": "markdown",
   "id": "c39cb941-fafd-48ab-9a55-d42342488fb4",
   "metadata": {},
   "source": [
    "The results of explicit and implicit Euler integration are practically identical."
   ]
  },
  {
   "cell_type": "code",
   "execution_count": 38,
   "id": "049a8d85-8f52-40dc-8e90-41878ee10b4e",
   "metadata": {},
   "outputs": [
    {
     "data": {
      "image/png": "[encoded data removed]",
      "text/plain": [
       "<Figure size 432x288 with 1 Axes>"
      ]
     },
     "metadata": {
      "needs_background": "light"
     },
     "output_type": "display_data"
    }
   ],
   "source": [
    "fig, ax = plt.subplots()\n",
    "ax.plot(t / 3600, y_exp.T, t / 3600, y_imp.T)\n",
    "ax.set(xlabel='Time, $t$ / h',\n",
    "       ylabel='Temperatue, $θ_i$ / °C',\n",
    "       title='Step input: outdoor temperature $T_o$')\n",
    "ax.legend(['Explicit', 'Implicit'])\n",
    "ax.grid()\n",
    "plt.show()"
   ]
  },
  {
   "cell_type": "markdown",
   "id": "3dde9c4b-5343-4e4e-baf3-f8a20355f61e",
   "metadata": {
    "tags": []
   },
   "source": [
    "> Figure 7. Step response to outdoor temperature by using Euler\n",
    "[implicit](https://en.m.wikipedia.org/wiki/Numerical_methods_for_ordinary_differential_equations#Backward_Euler_method)\n",
    "and\n",
    "[explicit](https://en.m.wikipedia.org/wiki/Numerical_methods_for_ordinary_differential_equations#Euler_method) integration.\n",
    "\n",
    "The value the indoor temperature obtained after the [settling time](https://en.m.wikipedia.org/wiki/Settling_time) is almost equal to the value obtained in steady-state."
   ]
  },
  {
   "cell_type": "code",
   "execution_count": 39,
   "id": "d6801343-7156-4c91-b7cd-f93f93229ad2",
   "metadata": {},
   "outputs": [
    {
     "name": "stdout",
     "output_type": "stream",
     "text": [
      "Steady-state indoor temperature obtained with:\n",
      "- DAE model: 10.0000 °C\n",
      "- state-space model: 10.0000 °C\n",
      "- steady-state response to step input: 9.8512 °C\n"
     ]
    }
   ],
   "source": [
    "print('Steady-state indoor temperature obtained with:')\n",
    "print(f'- DAE model: {float(θ[6]):.4f} °C')\n",
    "print(f'- state-space model: {float(yss):.4f} °C')\n",
    "print(f'- steady-state response to step input: {float(y_exp[:, -2]):.4f} °C')"
   ]
  },
  {
   "cell_type": "markdown",
   "id": "0912b7bf-c1bd-4606-b5c4-095f3d4c581b",
   "metadata": {
    "tags": []
   },
   "source": [
    "### Simulation with weather data"
   ]
  },
  {
   "cell_type": "code",
   "execution_count": 40,
   "id": "53f451dc-4055-432f-bfb9-575ab072be50",
   "metadata": {},
   "outputs": [],
   "source": [
    "start_date = '02-01 12:00:00'\n",
    "end_date = '02-07 18:00:00'"
   ]
  },
  {
   "cell_type": "code",
   "execution_count": 41,
   "id": "de1d7d8f-9c19-4b30-aab2-5bd5b5b58a58",
   "metadata": {},
   "outputs": [
    {
     "name": "stdout",
     "output_type": "stream",
     "text": [
      "2000-02-01 12:00:00 \tstart date\n",
      "2000-02-07 18:00:00 \tend date\n"
     ]
    }
   ],
   "source": [
    "start_date = '2000-' + start_date\n",
    "end_date = '2000-' + end_date\n",
    "print(f'{start_date} \\tstart date')\n",
    "print(f'{end_date} \\tend date')"
   ]
  },
  {
   "cell_type": "markdown",
   "id": "904f198e-960b-4045-93f4-1b9a34057ae0",
   "metadata": {
    "tags": []
   },
   "source": [
    "#### Inputs\n",
    "##### Read weather data"
   ]
  },
  {
   "cell_type": "code",
   "execution_count": 42,
   "id": "d2d7d382-98c6-436f-a3da-766052220313",
   "metadata": {},
   "outputs": [],
   "source": [
    "filename = './weather_data/FRA_Lyon.074810_IWEC.epw'\n",
    "[data, meta] = dm4bem.read_epw(filename, coerce_year=None)\n",
    "weather = data[[\"temp_air\", \"dir_n_rad\", \"dif_h_rad\"]]\n",
    "del data"
   ]
  },
  {
   "cell_type": "code",
   "execution_count": 43,
   "id": "abaaf4fa-eb5a-4cd4-832d-163100be3a76",
   "metadata": {},
   "outputs": [],
   "source": [
    "weather.index = weather.index.map(lambda t: t.replace(year=2000))\n",
    "weather = weather.loc[start_date:end_date]"
   ]
  },
  {
   "cell_type": "code",
   "execution_count": 44,
   "id": "e79c6269-6464-418c-ab8a-9a8cf28e9e03",
   "metadata": {},
   "outputs": [],
   "source": [
    "surface_orientation = {'slope': 90,\n",
    "                       'azimuth': 0,\n",
    "                       'latitude': 45}\n",
    "albedo = 0.2\n",
    "rad_surf = dm4bem.sol_rad_tilt_surf(\n",
    "    weather, surface_orientation, albedo)\n",
    "# pd.DataFrame(rad_surf)"
   ]
  },
  {
   "cell_type": "markdown",
   "id": "75b3c42d-2a15-4bf1-bb8f-84f7ded1b24d",
   "metadata": {
    "tags": []
   },
   "source": [
    "The total solar [irradiance](https://en.m.wikipedia.org/wiki/Solar_irradiance)  $E_{tot}$, in W/m², is the sum of direct, diffuse, and reflected components.  "
   ]
  },
  {
   "cell_type": "code",
   "execution_count": 45,
   "id": "5e9f21e8-f118-4f99-9195-83fb25dd0b06",
   "metadata": {},
   "outputs": [],
   "source": [
    "rad_surf['Φtot'] = rad_surf.sum(axis=1)"
   ]
  },
  {
   "cell_type": "code",
   "execution_count": 46,
   "id": "93c1c908-ff9c-444a-9c69-b5e77270d87a",
   "metadata": {},
   "outputs": [],
   "source": [
    "# resample weather data\n",
    "data = pd.concat([weather['temp_air'], rad_surf['Φtot']], axis=1)\n",
    "data = data.resample(str(dt) + 'S').interpolate(method='linear')\n",
    "data = data.rename(columns={'temp_air': 'To'})\n",
    "data = data.rename_axis('Time')\n",
    "# pd.DataFrame(data)"
   ]
  },
  {
   "cell_type": "code",
   "execution_count": 47,
   "id": "6d61f97c-5a6b-4bef-9353-7036b195eafa",
   "metadata": {},
   "outputs": [],
   "source": [
    "data['Ti'] = 20 * np.ones(data.shape[0])\n",
    "data['Qa'] = 0 * np.ones(data.shape[0])\n",
    "# pd.DataFrame(data)"
   ]
  },
  {
   "cell_type": "code",
   "execution_count": 48,
   "id": "6b9bf1da-df99-4c29-a995-a37235f92e2c",
   "metadata": {
    "tags": []
   },
   "outputs": [],
   "source": [
    "# input vector\n",
    "To = data['To']\n",
    "Ti = data['Ti']\n",
    "Φo = α_wSW * wall['Surface']['Layer_out'] * data['Φtot']\n",
    "Φi = τ_gSW * α_wSW * wall['Surface']['Glass'] * data['Φtot']\n",
    "Qa = data['Qa']\n",
    "Φa = α_gSW * wall['Surface']['Glass'] * data['Φtot']\n",
    "\n",
    "u = pd.concat([To, To, To, Ti, Φo, Φi, Qa, Φa], axis=1)\n",
    "u.columns.values[[4, 5, 7]] = ['Φo', 'Φi', 'Φa']\n",
    "# pd.DataFrame(u)"
   ]
  },
  {
   "cell_type": "code",
   "execution_count": 49,
   "id": "3428bbdd-d34a-4d93-8438-d1c2fe8c9279",
   "metadata": {},
   "outputs": [],
   "source": [
    "θ_exp = 20 * np.ones([As.shape[0], u.shape[0]])"
   ]
  },
  {
   "cell_type": "code",
   "execution_count": 50,
   "id": "6dd045e0-2a7a-4946-9f37-ed341d9da11d",
   "metadata": {},
   "outputs": [],
   "source": [
    "for k in range(u.shape[0] - 1):\n",
    "    θ_exp[:, k + 1] = (I + dt * As) @ θ_exp[:, k]\\\n",
    "        + dt * Bs @ u.iloc[k, :]"
   ]
  },
  {
   "cell_type": "code",
   "execution_count": 51,
   "id": "d80f2c02-3119-4309-9635-5fd0ee967293",
   "metadata": {
    "tags": []
   },
   "outputs": [],
   "source": [
    "y_exp = Cs @ θ_exp + Ds @ u.to_numpy().T\n",
    "q_HVAC = Kp * (data['Ti'] - y_exp[0, :])"
   ]
  },
  {
   "cell_type": "code",
   "execution_count": 52,
   "id": "5960a54b-27b7-4887-a4aa-d0684bb3c89d",
   "metadata": {},
   "outputs": [],
   "source": [
    "data['θi_exp'] = y_exp.T\n",
    "data['q_HVAC'] = q_HVAC.T"
   ]
  },
  {
   "cell_type": "code",
   "execution_count": 53,
   "id": "723f3f3d-8a6e-48b1-b450-55eddf077e1a",
   "metadata": {},
   "outputs": [
    {
     "data": {
      "image/png": "[encoded data removed]",
      "text/plain": [
       "<Figure size 432x288 with 2 Axes>"
      ]
     },
     "metadata": {
      "needs_background": "light"
     },
     "output_type": "display_data"
    }
   ],
   "source": [
    "fig, axs = plt.subplots(2, 1)\n",
    "\n",
    "data[['To', 'θi_exp']].plot(ax=axs[0],\n",
    "                            xticks=[],\n",
    "                            ylabel='Temperature, $θ$ / °C')\n",
    "axs[0].legend(['$θ_{outdoor}$', '$θ_{indoor}$'],\n",
    "              loc='upper right')\n",
    "\n",
    "data[['Φtot', 'q_HVAC']].plot(ax=axs[1],\n",
    "                              ylabel='Heat rate, $q$ / W')\n",
    "axs[1].set(xlabel='Time')\n",
    "axs[1].legend(['$Φ_{total}$', '$q_{HVAC}$'],\n",
    "             loc='upper right')\n",
    "plt.show()"
   ]
  },
  {
   "cell_type": "code",
   "execution_count": 54,
   "id": "f7ece29e-0059-4e52-8498-c5b20b252994",
   "metadata": {
    "tags": []
   },
   "outputs": [
    {
     "data": {
      "image/png": "[encoded data removed]",
      "text/plain": [
       "<Figure size 432x288 with 2 Axes>"
      ]
     },
     "metadata": {
      "needs_background": "light"
     },
     "output_type": "display_data"
    }
   ],
   "source": [
    "t = dt * np.arange(data.shape[0])   # time vector\n",
    "\n",
    "fig, axs = plt.subplots(2, 1)\n",
    "# plot outdoor and indoor temperature\n",
    "axs[0].plot(t / 3600 / 24, data['To'], label='$θ_{outdoor}$')\n",
    "axs[0].plot(t / 3600 / 24, y_exp[0, :], label='$θ_{indoor}$')\n",
    "axs[0].set(ylabel='Temperatures, $θ$ / °C',\n",
    "           title='Simulation for weather')\n",
    "axs[0].legend(loc='upper right')\n",
    "\n",
    "# plot total solar radiation and HVAC heat flow\n",
    "axs[1].plot(t / 3600 / 24, data['Φtot'], label='$Φ_{total}$')\n",
    "axs[1].plot(t / 3600 / 24, q_HVAC, label='$q_{HVAC}$')\n",
    "axs[1].set(xlabel='Time, $t$ / day',\n",
    "           ylabel='Heat flows, $q$ / W')\n",
    "axs[1].legend(loc='upper right')\n",
    "\n",
    "fig.tight_layout()"
   ]
  }
 ],
 "metadata": {
  "kernelspec": {
   "display_name": "Python 3 (ipykernel)",
   "language": "python",
   "name": "python3"
  },
  "language_info": {
   "codemirror_mode": {
    "name": "ipython",
    "version": 3
   },
   "file_extension": ".py",
   "mimetype": "text/x-python",
   "name": "python",
   "nbconvert_exporter": "python",
   "pygments_lexer": "ipython3",
   "version": "3.9.7"
  },
  "toc-autonumbering": true,
  "toc-showcode": false,
  "toc-showmarkdowntxt": false,
  "toc-showtags": false
 },
 "nbformat": 4,
 "nbformat_minor": 5
}
